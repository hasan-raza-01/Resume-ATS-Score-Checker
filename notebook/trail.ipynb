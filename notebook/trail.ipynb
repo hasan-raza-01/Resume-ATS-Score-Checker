{
 "cells": [
  {
   "cell_type": "code",
   "execution_count": null,
   "id": "2e140a59",
   "metadata": {},
   "outputs": [],
   "source": [
    "a = [1, 2,3,3]\n",
    "b = [3,4,56,6,3]\n",
    "a.append(b)"
   ]
  },
  {
   "cell_type": "code",
   "execution_count": null,
   "id": "6c3af272",
   "metadata": {},
   "outputs": [],
   "source": [
    "a"
   ]
  },
  {
   "cell_type": "code",
   "execution_count": null,
   "id": "5282ade9",
   "metadata": {},
   "outputs": [],
   "source": [
    "a = [1, 2,3,3]\n",
    "b = [3,4,56,6,3]\n",
    "a + b"
   ]
  },
  {
   "cell_type": "code",
   "execution_count": null,
   "id": "5723ff26",
   "metadata": {},
   "outputs": [],
   "source": [
    "import os \n",
    "\n",
    "name, ext = os.path.splitext(\"new(1).txt\")\n",
    "name, ext"
   ]
  },
  {
   "cell_type": "code",
   "execution_count": null,
   "id": "bd403c1a",
   "metadata": {},
   "outputs": [],
   "source": [
    "num = name[-2]\n",
    "num"
   ]
  },
  {
   "cell_type": "code",
   "execution_count": null,
   "id": "b26102c0",
   "metadata": {},
   "outputs": [],
   "source": [
    "num = int(num)\n",
    "num+=1\n",
    "name[:-3] + f\"({num})\" + ext"
   ]
  },
  {
   "cell_type": "code",
   "execution_count": null,
   "id": "1f31a6f4",
   "metadata": {},
   "outputs": [],
   "source": [
    "import os \n",
    "\n",
    "name, ext = os.path.splitext(\"new.txt\")\n",
    "name, ext"
   ]
  },
  {
   "cell_type": "code",
   "execution_count": null,
   "id": "a4139103",
   "metadata": {},
   "outputs": [],
   "source": [
    "name + \"(1)\" + ext"
   ]
  },
  {
   "cell_type": "code",
   "execution_count": null,
   "id": "9c92b964",
   "metadata": {},
   "outputs": [],
   "source": [
    "from unstructured.partition.docx import partition_docx"
   ]
  },
  {
   "cell_type": "code",
   "execution_count": null,
   "id": "9b52afb9",
   "metadata": {},
   "outputs": [],
   "source": [
    "elements = partition_docx(\"C:\\\\Users\\\\hasan\\\\Artificial-Intelligence\\\\projects\\\\Resume ATS Score Checker\\\\resumes\\\\3.docx\") "
   ]
  },
  {
   "cell_type": "code",
   "execution_count": null,
   "id": "9891d931",
   "metadata": {},
   "outputs": [],
   "source": [
    "elements"
   ]
  },
  {
   "cell_type": "code",
   "execution_count": null,
   "id": "4b5cbad3",
   "metadata": {},
   "outputs": [],
   "source": [
    "output = \"\\n\\n\".join([str(el) for el in elements])\n",
    "print(output) "
   ]
  },
  {
   "cell_type": "raw",
   "id": "df144aed",
   "metadata": {
    "vscode": {
     "languageId": "raw"
    }
   },
   "source": [
    "Jessica Chen\n",
    "\n",
    "Data Scientist | Machine Learning Engineer\n",
    "\n",
    "Email: jessica.chen@example.com | Phone: (999) 000-1111 | LinkedIn: linkedin.com/in/jessicachen | GitHub: github.com/jessicachen-ds\n",
    "\n",
    "Professional Profile\n",
    "\n",
    "Highly analytical and innovative Data Scientist with 6 years of experience specializing in machine learning, statistical modeling, and big data analysis. Proven ability to translate complex data into actionable insights and build robust predictive models that drive business value. Proficient in Python, R, and various machine learning frameworks, with a strong background in cloud platforms and MLOps. Seeking to apply advanced analytical skills to solve challenging problems in a data-driven organization.\n",
    "\n",
    "Core Competencies\n",
    "\n",
    "Machine Learning: Supervised/Unsupervised Learning, Deep Learning, NLP, Time Series Analysis, Model Evaluation, Hyperparameter Tuning\n",
    "\n",
    "Programming: Python (Scikit-learn, TensorFlow, Keras, PyTorch, Pandas, NumPy, SciPy), R, SQL\n",
    "\n",
    "Data Analysis: Statistical Modeling, A/B Testing, Hypothesis Testing, Data Visualization (Matplotlib, Seaborn, Plotly, Tableau)\n",
    "\n",
    "Big Data & Cloud: Apache Spark, Hadoop, AWS (S3, EC2, SageMaker, Lambda), Google Cloud Platform (BigQuery, AI Platform)\n",
    "\n",
    "Tools & Methodologies: Git, Docker, Jupyter Notebooks, MLflow, Agile, Data Storytelling\n",
    "\n",
    "Professional Experience\n",
    "\n",
    "Lead Data Scientist\n",
    "\n",
    "Data Insights Corp. | Seattle, WA | January 2021 – Present\n",
    "\n",
    "Led a team of 4 data scientists in developing and deploying machine learning models for fraud detection, resulting in a 25% reduction in false positives and $1.5M annual savings.\n",
    "\n",
    "Designed and implemented a customer lifetime value (CLTV) prediction model using advanced regression techniques, improving marketing campaign targeting efficiency by 18%.\n",
    "\n",
    "Developed and maintained end-to-end ML pipelines on AWS SageMaker, automating data ingestion, model training, and deployment processes.\n",
    "\n",
    "\n",
    "\n",
    "Collaborated with engineering teams to integrate ML models into production systems, ensuring scalability and reliability.\n",
    "\n",
    "Presented complex analytical findings to executive stakeholders, influencing strategic business decisions.\n",
    "\n",
    "Data Scientist\n",
    "\n",
    "Tech Innovations Group | San Francisco, CA | August 2018 – December 2020\n",
    "\n",
    "Built and validated predictive models for customer churn using Python and Scikit-learn, leading to a 10% increase in customer retention.\n",
    "\n",
    "Performed extensive exploratory data analysis (EDA) on large datasets to identify key trends and anomalies.\n",
    "\n",
    "Developed interactive dashboards in Tableau to visualize key business metrics and model performance.\n",
    "\n",
    "Contributed to the design of A/B tests and analyzed results to optimize product features.\n",
    "\n",
    "Junior Data Analyst\n",
    "\n",
    "Analytics Solutions LLC | San Jose, CA | June 2017 – July 2018\n",
    "\n",
    "Cleaned, transformed, and analyzed structured and unstructured data using SQL and Python.\n",
    "\n",
    "Generated weekly reports on sales performance and market trends.\n",
    "\n",
    "Key Projects\n",
    "\n",
    "Real-time Anomaly Detection System\n",
    "\n",
    "Data Insights Corp. | 2023\n",
    "\n",
    "Objective: Develop a real-time system to detect anomalies in financial transactions.\n",
    "\n",
    "Technologies: Python, Apache Flink, Kafka, TensorFlow, AWS Kinesis.\n",
    "\n",
    "Outcome: Achieved 98% detection accuracy with sub-second latency, significantly reducing fraudulent activities.\n",
    "\n",
    "Personalized Recommendation Engine\n",
    "\n",
    "Personal Project | 2022\n",
    "\n",
    "Objective: Build a content recommendation engine based on user behavior.\n",
    "\n",
    "Technologies: Python, PyTorch, Collaborative Filtering, AWS EC2.\n",
    "\n",
    "\n",
    "\n",
    "Outcome: Implemented a proof-of-concept that demonstrated improved recommendation relevance compared to baseline methods.\n",
    "\n",
    "Education\n",
    "\n",
    "Master of Science in Data Science\n",
    "\n",
    "University of California, Berkeley | Berkeley, CA | 2016 – 2017\n",
    "\n",
    "Thesis: \"Deep Learning for Natural Language Understanding in Customer Support.\"\n",
    "\n",
    "Bachelor of Science in Statistics\n",
    "\n",
    "University of Washington | Seattle, WA | 2012 – 2016\n",
    "\n",
    "Minor: Computer Science\n",
    "\n",
    "Honors: Magna Cum Laude\n",
    "\n",
    "Professional Development & Certifications\n",
    "\n",
    "AWS Certified Machine Learning – Specialty (2022)\n",
    "\n",
    "Google Cloud Professional Data Engineer (2021)\n",
    "\n",
    "Coursera Specialization: Deep Learning (Andrew Ng) – Completed 2020\n",
    "\n",
    "Community Involvement\n",
    "\n",
    "Data Science Mentor\n",
    "\n",
    "Local Tech Hub | Seattle, WA | 2021 – Present\n",
    "\n",
    "Provided guidance and mentorship to aspiring data scientists on career paths and technical skills.\n",
    "\n",
    "Led workshops on introductory Python for data analysis.\n",
    "\n",
    "Publications\n",
    "\n",
    "Chen, J., & Smith, A. (2023). \"Improving Fraud Detection with Graph Neural Networks.\" Journal of Applied Data Science, 10(2), 123-135.\n",
    "\n",
    "\"The Role of Explainable AI in Financial Modeling\" – Guest Lecture, University of Washington (2024)"
   ]
  },
  {
   "cell_type": "code",
   "execution_count": 9,
   "id": "42f69c6d",
   "metadata": {},
   "outputs": [],
   "source": [
    "from string import punctuation "
   ]
  },
  {
   "cell_type": "code",
   "execution_count": null,
   "id": "489c4954",
   "metadata": {},
   "outputs": [],
   "source": [
    "punctuation"
   ]
  },
  {
   "cell_type": "code",
   "execution_count": 7,
   "id": "321d11fb",
   "metadata": {},
   "outputs": [],
   "source": [
    "from copy import deepcopy \n",
    "import re "
   ]
  },
  {
   "cell_type": "code",
   "execution_count": null,
   "id": "2db4267a",
   "metadata": {},
   "outputs": [],
   "source": [
    "o = deepcopy(output)\n",
    "new_line_char = \" mmmmmmm \" \n",
    "o = o.replace(\"\\n\", new_line_char) \n",
    "o = o.replace(\"|\", \",\") \n",
    "o = re.sub(r'–', '-', o) \n",
    "for i in punctuation.replace(\",\", \"\"): \n",
    "    o = o.replace(i, \" \") \n",
    "o = \" \".join(o.split())\n",
    "o = o.replace(new_line_char.strip(), \"\\n\") \n",
    "print(o)"
   ]
  },
  {
   "cell_type": "raw",
   "id": "9565a51b",
   "metadata": {
    "vscode": {
     "languageId": "raw"
    }
   },
   "source": [
    "Jessica Chen \n",
    " \n",
    " Data Scientist , Machine Learning Engineer \n",
    " \n",
    " Email jessica chen example com , Phone 999 000 1111 , LinkedIn linkedin com in jessicachen , GitHub github com jessicachen ds \n",
    " \n",
    " Professional Profile \n",
    " \n",
    " Highly analytical and innovative Data Scientist with 6 years of experience specializing in machine learning, statistical modeling, and big data analysis Proven ability to translate complex data into actionable insights and build robust predictive models that drive business value Proficient in Python, R, and various machine learning frameworks, with a strong background in cloud platforms and MLOps Seeking to apply advanced analytical skills to solve challenging problems in a data driven organization \n",
    " \n",
    " Core Competencies \n",
    " \n",
    " Machine Learning Supervised Unsupervised Learning, Deep Learning, NLP, Time Series Analysis, Model Evaluation, Hyperparameter Tuning \n",
    " \n",
    " Programming Python Scikit learn, TensorFlow, Keras, PyTorch, Pandas, NumPy, SciPy , R, SQL \n",
    " \n",
    " Data Analysis Statistical Modeling, A B Testing, Hypothesis Testing, Data Visualization Matplotlib, Seaborn, Plotly, Tableau \n",
    " \n",
    " Big Data Cloud Apache Spark, Hadoop, AWS S3, EC2, SageMaker, Lambda , Google Cloud Platform BigQuery, AI Platform \n",
    " \n",
    " Tools Methodologies Git, Docker, Jupyter Notebooks, MLflow, Agile, Data Storytelling \n",
    " \n",
    " Professional Experience \n",
    " \n",
    " Lead Data Scientist \n",
    " \n",
    " Data Insights Corp , Seattle, WA , January 2021 Present \n",
    " \n",
    " Led a team of 4 data scientists in developing and deploying machine learning models for fraud detection, resulting in a 25 reduction in false positives and 1 5M annual savings \n",
    " \n",
    " Designed and implemented a customer lifetime value CLTV prediction model using advanced regression techniques, improving marketing campaign targeting efficiency by 18 \n",
    " \n",
    " Developed and maintained end to end ML pipelines on AWS SageMaker, automating data ingestion, model training, and deployment processes \n",
    " \n",
    " \n",
    " \n",
    " Collaborated with engineering teams to integrate ML models into production systems, ensuring scalability and reliability \n",
    " \n",
    " Presented complex analytical findings to executive stakeholders, influencing strategic business decisions \n",
    " \n",
    " Data Scientist \n",
    " \n",
    " Tech Innovations Group , San Francisco, CA , August 2018 December 2020 \n",
    " \n",
    " Built and validated predictive models for customer churn using Python and Scikit learn, leading to a 10 increase in customer retention \n",
    " \n",
    " Performed extensive exploratory data analysis EDA on large datasets to identify key trends and anomalies \n",
    " \n",
    " Developed interactive dashboards in Tableau to visualize key business metrics and model performance \n",
    " \n",
    " Contributed to the design of A B tests and analyzed results to optimize product features \n",
    " \n",
    " Junior Data Analyst \n",
    " \n",
    " Analytics Solutions LLC , San Jose, CA , June 2017 July 2018 \n",
    " \n",
    " Cleaned, transformed, and analyzed structured and unstructured data using SQL and Python \n",
    " \n",
    " Generated weekly reports on sales performance and market trends \n",
    " \n",
    " Key Projects \n",
    " \n",
    " Real time Anomaly Detection System \n",
    " \n",
    " Data Insights Corp , 2023 \n",
    " \n",
    " Objective Develop a real time system to detect anomalies in financial transactions \n",
    " \n",
    " Technologies Python, Apache Flink, Kafka, TensorFlow, AWS Kinesis \n",
    " \n",
    " Outcome Achieved 98 detection accuracy with sub second latency, significantly reducing fraudulent activities \n",
    " \n",
    " Personalized Recommendation Engine \n",
    " \n",
    " Personal Project , 2022 \n",
    " \n",
    " Objective Build a content recommendation engine based on user behavior \n",
    " \n",
    " Technologies Python, PyTorch, Collaborative Filtering, AWS EC2 \n",
    " \n",
    " \n",
    " \n",
    " Outcome Implemented a proof of concept that demonstrated improved recommendation relevance compared to baseline methods \n",
    " \n",
    " Education \n",
    " \n",
    " Master of Science in Data Science \n",
    " \n",
    " University of California, Berkeley , Berkeley, CA , 2016 2017 \n",
    " \n",
    " Thesis Deep Learning for Natural Language Understanding in Customer Support \n",
    " \n",
    " Bachelor of Science in Statistics \n",
    " \n",
    " University of Washington , Seattle, WA , 2012 2016 \n",
    " \n",
    " Minor Computer Science \n",
    " \n",
    " Honors Magna Cum Laude \n",
    " \n",
    " Professional Development Certifications \n",
    " \n",
    " AWS Certified Machine Learning Specialty 2022 \n",
    " \n",
    " Google Cloud Professional Data Engineer 2021 \n",
    " \n",
    " Coursera Specialization Deep Learning Andrew Ng Completed 2020 \n",
    " \n",
    " Community Involvement \n",
    " \n",
    " Data Science Mentor \n",
    " \n",
    " Local Tech Hub , Seattle, WA , 2021 Present \n",
    " \n",
    " Provided guidance and mentorship to aspiring data scientists on career paths and technical skills \n",
    " \n",
    " Led workshops on introductory Python for data analysis \n",
    " \n",
    " Publications \n",
    " \n",
    " Chen, J , Smith, A 2023 Improving Fraud Detection with Graph Neural Networks Journal of Applied Data Science, 10 2 , 123 135 \n",
    " \n",
    " The Role of Explainable AI in Financial Modeling Guest Lecture, University of Washington 2024"
   ]
  },
  {
   "cell_type": "code",
   "execution_count": null,
   "id": "dca0c09f",
   "metadata": {},
   "outputs": [],
   "source": [
    "from unstructured.partition.pdf import partition_pdf"
   ]
  },
  {
   "cell_type": "code",
   "execution_count": null,
   "id": "b39a949c",
   "metadata": {},
   "outputs": [],
   "source": [
    "elements = partition_pdf(\"C:\\\\Users\\\\hasan\\\\Artificial-Intelligence\\\\projects\\\\Resume ATS Score Checker\\\\resumes\\\\3.pdf\") \n",
    "output = \"\\n\\n\".join([str(el) for el in elements])\n",
    "o = deepcopy(output)\n",
    "new_line_char = \" mmmmmmm \" \n",
    "o = o.replace(\"\\n\", new_line_char) \n",
    "o = o.replace(\"|\", \",\") \n",
    "o = re.sub(r'–', '-', o) \n",
    "for i in punctuation.replace(\",\", \"\"): \n",
    "    o = o.replace(i, \" \") \n",
    "o = \" \".join(o.split())\n",
    "o = o.replace(new_line_char.strip(), \"\\n\") \n",
    "print(o)"
   ]
  },
  {
   "cell_type": "raw",
   "id": "28af2f56",
   "metadata": {
    "vscode": {
     "languageId": "raw"
    }
   },
   "source": [
    "David Lee \n",
    " \n",
    " Senior Product Manager \n",
    " \n",
    " Email david lee example com , Phone 777 888 9999 , LinkedIn linkedin com in davidlee , Portfolio davidlee pm \n",
    " \n",
    " Professional Summary \n",
    " \n",
    " Highly strategic and results driven Senior Product Manager with 10 years of experience leading cross functional teams in the full product lifecycle, from ideation to launch and iteration Proven track record of delivering innovative, user centric products that drive revenue growth and enhance market share Expertise in SaaS, B2B, and mobile applications, with a strong focus on agile methodologies, market research, and stakeholder management \n",
    " \n",
    " Core Competencies \n",
    " \n",
    " Product Strategy Roadmapping \n",
    " \n",
    " Market Research Analysis \n",
    " \n",
    " User Experience UX Design \n",
    " \n",
    " Agile Scrum Methodologies \n",
    " \n",
    " Go to Market GTM Strategy \n",
    " \n",
    " Cross Functional Team Leadership \n",
    " \n",
    " Data Driven Decision Making \n",
    " \n",
    " Competitive Analysis \n",
    " \n",
    " Stakeholder Management \n",
    " \n",
    " Requirements Gathering \n",
    " \n",
    " Product Lifecycle Management \n",
    " \n",
    " A B Testing Optimization \n",
    " \n",
    " Professional Experience \n",
    " \n",
    " Senior Product Manager \n",
    " \n",
    " InnovateTech Solutions , San Francisco, CA , March 2019 Present \n",
    " \n",
    " \n",
    " \n",
    " Led the strategy and execution for a flagship SaaS platform, increasing annual recurring revenue ARR by 5M within 2 years through new feature development and pricing optimization \n",
    " \n",
    " Managed a product backlog for 3 engineering teams, prioritizing features based on \n",
    " \n",
    " market demand, customer feedback, and business objectives \n",
    " \n",
    " \n",
    " \n",
    " Launched 5 major product features, including an AI powered analytics module and a customizable reporting suite, resulting in a 15 increase in user engagement \n",
    " \n",
    " Conducted extensive market research and competitive analysis to identify new \n",
    " \n",
    " opportunities and inform product roadmap decisions \n",
    " \n",
    " Collaborated closely with engineering, design, sales, and marketing teams to ensure \n",
    " \n",
    " successful product launches and adoption \n",
    " \n",
    " Defined and tracked key product metrics e g , DAU, MAU, churn rate , using data to \n",
    " \n",
    " inform product iterations and improvements \n",
    " \n",
    " Product Manager \n",
    " \n",
    " NextGen Software Inc , New York, NY , August 2015 February 2019 \n",
    " \n",
    " Managed the development of a mobile productivity application iOS Android , \n",
    " \n",
    " growing its user base from 100K to 1M downloads \n",
    " \n",
    " Reduced user churn by 10 through iterative UX improvements and A B testing of \n",
    " \n",
    " onboarding flows \n",
    " \n",
    " Authored detailed product requirements documents PRDs , user stories, and \n",
    " \n",
    " acceptance criteria \n",
    " \n",
    " Conducted user interviews and usability testing to gather insights and validate \n",
    " \n",
    " product concepts \n",
    " \n",
    " Associate Product Manager \n",
    " \n",
    " Startup X , Austin, TX , June 2013 July 2015 \n",
    " \n",
    " Assisted in product discovery and feature definition for an early stage FinTech \n",
    " \n",
    " platform \n",
    " \n",
    " Analyzed user feedback and usage data to identify pain points and opportunities for \n",
    " \n",
    " improvement \n",
    " \n",
    " Key Projects \n",
    " \n",
    " Enterprise Dashboard Revamp \n",
    " \n",
    " InnovateTech Solutions , 2022 \n",
    " \n",
    " Objective Redesign and rebuild the core enterprise dashboard to improve usability \n",
    " \n",
    " and performance \n",
    " \n",
    " Outcome Achieved a 25 reduction in task completion time for key user workflows \n",
    " \n",
    " and a 30 increase in dashboard load speed \n",
    " \n",
    " Role Led requirements gathering, UX collaboration, and sprint planning for the \n",
    " \n",
    " engineering team \n",
    " \n",
    " Mobile App Gamification Initiative \n",
    " \n",
    " NextGen Software Inc , 2017 \n",
    " \n",
    " Objective Implement gamification features to increase user retention and \n",
    " \n",
    " engagement \n",
    " \n",
    " Outcome Increased daily active users by 20 and average session duration by 15 \n",
    " \n",
    " Role Defined feature specifications, managed A B tests, and analyzed impact \n",
    " \n",
    " Education \n",
    " \n",
    " Master of Business Administration MBA \n",
    " \n",
    " Columbia Business School , New York, NY , 2011 2013 \n",
    " \n",
    " Concentration Product Management, Technology Innovation \n",
    " \n",
    " Bachelor of Science in Computer Engineering \n",
    " \n",
    " University of Texas at Austin , Austin, TX , 2007 2011 \n",
    " \n",
    " Honors Dean s List all semesters \n",
    " \n",
    " Certifications \n",
    " \n",
    " Certified Scrum Product Owner CSPO Scrum Alliance 2018 \n",
    " \n",
    " Product Management Certification Product School 2016 \n",
    " \n",
    " Publications Presentations \n",
    " \n",
    " \n",
    " \n",
    " The Future of AI in SaaS Product Development Speaker, ProductCon 2023 \n",
    " \n",
    " \n",
    " \n",
    " Building Scalable Product Roadmaps for Growth Article, Product Management Today 2021 \n",
    " \n",
    " Volunteer Experience \n",
    " \n",
    " Mentor \n",
    " \n",
    " Startup Incubator Program , San Francisco, CA , 2020 Present \n",
    " \n",
    " Mentored early stage startup founders on product strategy, market fit, and \n",
    " \n",
    " fundraising \n",
    " \n",
    " Interests \n",
    " \n",
    " Hiking, Photography, AI Ethics, Smart Home Technology, Cooking"
   ]
  },
  {
   "cell_type": "code",
   "execution_count": 3,
   "id": "37db3479",
   "metadata": {},
   "outputs": [],
   "source": [
    "from unstructured.partition.html import partition_html"
   ]
  },
  {
   "cell_type": "code",
   "execution_count": null,
   "id": "41c14e54",
   "metadata": {},
   "outputs": [],
   "source": [
    "elements = partition_html(\"C:\\\\Users\\\\hasan\\\\Artificial-Intelligence\\\\projects\\\\Resume ATS Score Checker\\\\resumes\\\\3.html\") \n",
    "output = \"\\n\\n\".join([str(el) for el in elements]) \n"
   ]
  },
  {
   "cell_type": "code",
   "execution_count": 5,
   "id": "ea668974",
   "metadata": {},
   "outputs": [
    {
     "name": "stdout",
     "output_type": "stream",
     "text": [
      "Alex Johnson\n",
      "\n",
      "Senior Software Engineer | Full-Stack Development\n",
      "\n",
      "Email: alex.johnson@example.com\n",
      "\n",
      "Phone: (555) 123-4567\n",
      "\n",
      "LinkedIn: linkedin.com/in/alexjohnson\n",
      "\n",
      "GitHub: github.com/alexjohnsondev\n",
      "\n",
      "Portfolio: alexjohnson.dev\n",
      "\n",
      "Professional Summary\n",
      "\n",
      "Highly accomplished and results-oriented Senior Software Engineer with 8+ years of experience in designing, developing, and deploying scalable full-stack applications. Proven ability to lead cross-functional teams, mentor junior developers, and deliver complex projects on time and within budget. Expertise in cloud-native architectures, microservices, and agile methodologies. Passionate about leveraging cutting-edge technologies to solve challenging business problems and drive innovation.\n",
      "\n",
      "Technical Skills\n",
      "\n",
      "Programming Languages: Python (Expert), JavaScript (Expert), TypeScript (Advanced), Go (Intermediate), Java (Intermediate)\n",
      "\n",
      "Front-End: React.js, Next.js, Vue.js, Angular, HTML5, CSS3, Tailwind CSS, Bootstrap, Redux, Context API\n",
      "\n",
      "Back-End: Node.js, Express.js, Django, Flask, Spring Boot, RESTful APIs, GraphQL\n",
      "\n",
      "Databases: PostgreSQL, MongoDB, MySQL, Redis, DynamoDB\n",
      "\n",
      "Cloud Platforms: AWS (EC2, S3, Lambda, RDS, SQS, SNS), Google Cloud Platform (GCP), Azure\n",
      "\n",
      "Tools & Methodologies: Git, Docker, Kubernetes, Jenkins, CI/CD, Agile (Scrum/Kanban), TDD, Microservices, Serverless\n",
      "\n",
      "Professional Experience\n",
      "\n",
      "Senior Software Engineer\n",
      "\n",
      "Innovate Solutions Inc. | Seattle, WA | January 2020 – Present\n",
      "\n",
      "Led the development of a high-traffic e-commerce platform, increasing conversion rates by 20% and reducing latency by 30% through optimized API design and database queries.\n",
      "\n",
      "Designed and implemented a microservices architecture using Go and Docker, resulting in improved scalability and maintainability for critical business services.\n",
      "\n",
      "Mentored a team of 5 junior developers, conducting code reviews, providing technical guidance, and fostering a collaborative development environment.\n",
      "\n",
      "Developed and maintained CI/CD pipelines using Jenkins, automating deployment processes and reducing release cycles by 50%.\n",
      "\n",
      "Collaborated with product managers and UX designers to translate business requirements into technical specifications and user-centric features.\n",
      "\n",
      "Software Engineer\n",
      "\n",
      "Global Tech Corp | San Jose, CA | August 2017 – December 2019\n",
      "\n",
      "Contributed to the development of a real-time data analytics dashboard using React.js and Node.js, improving data visualization capabilities for enterprise clients.\n",
      "\n",
      "Optimized existing database schemas and queries, leading to a 25% improvement in data retrieval efficiency.\n",
      "\n",
      "Participated in agile ceremonies, contributing to sprint planning, daily stand-ups, and retrospectives.\n",
      "\n",
      "Key Projects\n",
      "\n",
      "Cloud-Native Inventory Management System\n",
      "\n",
      "Technologies: AWS Lambda, DynamoDB, API Gateway, React.js, Serverless Framework\n",
      "\n",
      "Architected and developed a serverless inventory system for a logistics company, reducing infrastructure costs by 40%.\n",
      "\n",
      "Implemented real-time stock updates and automated alerts, improving inventory accuracy by 95%.\n",
      "\n",
      "AI-Powered Content Recommendation Engine\n",
      "\n",
      "Technologies: Python, TensorFlow, Flask, PostgreSQL, Docker\n",
      "\n",
      "Developed a machine learning model to provide personalized content recommendations, increasing user engagement by 18%.\n",
      "\n",
      "Built RESTful APIs to integrate the recommendation engine with existing web applications.\n",
      "\n",
      "Education\n",
      "\n",
      "Master of Science in Computer Science\n",
      "\n",
      "University of California, Berkeley | Berkeley, CA | 2016 – 2017\n",
      "\n",
      "Specialization in Distributed Systems and Machine Learning.\n",
      "\n",
      "Bachelor of Engineering in Computer Engineering\n",
      "\n",
      "Georgia Institute of Technology | Atlanta, GA | 2012 – 2016\n",
      "\n",
      "Graduated Summa Cum Laude.\n",
      "\n",
      "Awarded Dean's List for 6 consecutive semesters.\n",
      "\n",
      "Certifications & Awards\n",
      "\n",
      "AWS Certified Solutions Architect – Associate (2021)\n",
      "\n",
      "Google Cloud Professional Cloud Developer (2022)\n",
      "\n",
      "\"Innovator of the Year\" Award, Innovate Solutions Inc. (2023)\n",
      "\n",
      "Top Performer in \"Advanced Algorithms\" Course, UC Berkeley (2017)\n",
      "\n",
      "Volunteer Experience\n",
      "\n",
      "Code Mentor\n",
      "\n",
      "Girls Who Code | Remote | September 2020 – Present\n",
      "\n",
      "Mentored high school students in fundamental programming concepts and web development.\n",
      "\n",
      "Assisted in developing curriculum and organizing coding workshops.\n"
     ]
    }
   ],
   "source": [
    "print(output)"
   ]
  },
  {
   "cell_type": "raw",
   "id": "56c6f052",
   "metadata": {
    "vscode": {
     "languageId": "raw"
    }
   },
   "source": [
    "Alex Johnson\n",
    "\n",
    "Senior Software Engineer | Full-Stack Development\n",
    "\n",
    "Email: alex.johnson@example.com\n",
    "\n",
    "Phone: (555) 123-4567\n",
    "\n",
    "LinkedIn: linkedin.com/in/alexjohnson\n",
    "\n",
    "GitHub: github.com/alexjohnsondev\n",
    "\n",
    "Portfolio: alexjohnson.dev\n",
    "\n",
    "Professional Summary\n",
    "\n",
    "Highly accomplished and results-oriented Senior Software Engineer with 8+ years of experience in designing, developing, and deploying scalable full-stack applications. Proven ability to lead cross-functional teams, mentor junior developers, and deliver complex projects on time and within budget. Expertise in cloud-native architectures, microservices, and agile methodologies. Passionate about leveraging cutting-edge technologies to solve challenging business problems and drive innovation.\n",
    "\n",
    "Technical Skills\n",
    "\n",
    "Programming Languages: Python (Expert), JavaScript (Expert), TypeScript (Advanced), Go (Intermediate), Java (Intermediate)\n",
    "\n",
    "Front-End: React.js, Next.js, Vue.js, Angular, HTML5, CSS3, Tailwind CSS, Bootstrap, Redux, Context API\n",
    "\n",
    "Back-End: Node.js, Express.js, Django, Flask, Spring Boot, RESTful APIs, GraphQL\n",
    "\n",
    "Databases: PostgreSQL, MongoDB, MySQL, Redis, DynamoDB\n",
    "\n",
    "Cloud Platforms: AWS (EC2, S3, Lambda, RDS, SQS, SNS), Google Cloud Platform (GCP), Azure\n",
    "\n",
    "Tools & Methodologies: Git, Docker, Kubernetes, Jenkins, CI/CD, Agile (Scrum/Kanban), TDD, Microservices, Serverless\n",
    "\n",
    "Professional Experience\n",
    "\n",
    "Senior Software Engineer\n",
    "\n",
    "Innovate Solutions Inc. | Seattle, WA | January 2020 – Present\n",
    "\n",
    "Led the development of a high-traffic e-commerce platform, increasing conversion rates by 20% and reducing latency by 30% through optimized API design and database queries.\n",
    "\n",
    "Designed and implemented a microservices architecture using Go and Docker, resulting in improved scalability and maintainability for critical business services.\n",
    "\n",
    "Mentored a team of 5 junior developers, conducting code reviews, providing technical guidance, and fostering a collaborative development environment.\n",
    "\n",
    "Developed and maintained CI/CD pipelines using Jenkins, automating deployment processes and reducing release cycles by 50%.\n",
    "\n",
    "Collaborated with product managers and UX designers to translate business requirements into technical specifications and user-centric features.\n",
    "\n",
    "Software Engineer\n",
    "\n",
    "Global Tech Corp | San Jose, CA | August 2017 – December 2019\n",
    "\n",
    "Contributed to the development of a real-time data analytics dashboard using React.js and Node.js, improving data visualization capabilities for enterprise clients.\n",
    "\n",
    "Optimized existing database schemas and queries, leading to a 25% improvement in data retrieval efficiency.\n",
    "\n",
    "Participated in agile ceremonies, contributing to sprint planning, daily stand-ups, and retrospectives.\n",
    "\n",
    "Key Projects\n",
    "\n",
    "Cloud-Native Inventory Management System\n",
    "\n",
    "Technologies: AWS Lambda, DynamoDB, API Gateway, React.js, Serverless Framework\n",
    "\n",
    "Architected and developed a serverless inventory system for a logistics company, reducing infrastructure costs by 40%.\n",
    "\n",
    "Implemented real-time stock updates and automated alerts, improving inventory accuracy by 95%.\n",
    "\n",
    "AI-Powered Content Recommendation Engine\n",
    "\n",
    "Technologies: Python, TensorFlow, Flask, PostgreSQL, Docker\n",
    "\n",
    "Developed a machine learning model to provide personalized content recommendations, increasing user engagement by 18%.\n",
    "\n",
    "Built RESTful APIs to integrate the recommendation engine with existing web applications.\n",
    "\n",
    "Education\n",
    "\n",
    "Master of Science in Computer Science\n",
    "\n",
    "University of California, Berkeley | Berkeley, CA | 2016 – 2017\n",
    "\n",
    "Specialization in Distributed Systems and Machine Learning.\n",
    "\n",
    "Bachelor of Engineering in Computer Engineering\n",
    "\n",
    "Georgia Institute of Technology | Atlanta, GA | 2012 – 2016\n",
    "\n",
    "Graduated Summa Cum Laude.\n",
    "\n",
    "Awarded Dean's List for 6 consecutive semesters.\n",
    "\n",
    "Certifications & Awards\n",
    "\n",
    "AWS Certified Solutions Architect – Associate (2021)\n",
    "\n",
    "Google Cloud Professional Cloud Developer (2022)\n",
    "\n",
    "\"Innovator of the Year\" Award, Innovate Solutions Inc. (2023)\n",
    "\n",
    "Top Performer in \"Advanced Algorithms\" Course, UC Berkeley (2017)\n",
    "\n",
    "Volunteer Experience\n",
    "\n",
    "Code Mentor\n",
    "\n",
    "Girls Who Code | Remote | September 2020 – Present\n",
    "\n",
    "Mentored high school students in fundamental programming concepts and web development.\n",
    "\n",
    "Assisted in developing curriculum and organizing coding workshops."
   ]
  },
  {
   "cell_type": "code",
   "execution_count": 10,
   "id": "88bf9083",
   "metadata": {},
   "outputs": [
    {
     "name": "stdout",
     "output_type": "stream",
     "text": [
      "Alex Johnson \n",
      " \n",
      " Senior Software Engineer , Full Stack Development \n",
      " \n",
      " Email alex johnson example com \n",
      " \n",
      " Phone 555 123 4567 \n",
      " \n",
      " LinkedIn linkedin com in alexjohnson \n",
      " \n",
      " GitHub github com alexjohnsondev \n",
      " \n",
      " Portfolio alexjohnson dev \n",
      " \n",
      " Professional Summary \n",
      " \n",
      " Highly accomplished and results oriented Senior Software Engineer with 8 years of experience in designing, developing, and deploying scalable full stack applications Proven ability to lead cross functional teams, mentor junior developers, and deliver complex projects on time and within budget Expertise in cloud native architectures, microservices, and agile methodologies Passionate about leveraging cutting edge technologies to solve challenging business problems and drive innovation \n",
      " \n",
      " Technical Skills \n",
      " \n",
      " Programming Languages Python Expert , JavaScript Expert , TypeScript Advanced , Go Intermediate , Java Intermediate \n",
      " \n",
      " Front End React js, Next js, Vue js, Angular, HTML5, CSS3, Tailwind CSS, Bootstrap, Redux, Context API \n",
      " \n",
      " Back End Node js, Express js, Django, Flask, Spring Boot, RESTful APIs, GraphQL \n",
      " \n",
      " Databases PostgreSQL, MongoDB, MySQL, Redis, DynamoDB \n",
      " \n",
      " Cloud Platforms AWS EC2, S3, Lambda, RDS, SQS, SNS , Google Cloud Platform GCP , Azure \n",
      " \n",
      " Tools Methodologies Git, Docker, Kubernetes, Jenkins, CI CD, Agile Scrum Kanban , TDD, Microservices, Serverless \n",
      " \n",
      " Professional Experience \n",
      " \n",
      " Senior Software Engineer \n",
      " \n",
      " Innovate Solutions Inc , Seattle, WA , January 2020 Present \n",
      " \n",
      " Led the development of a high traffic e commerce platform, increasing conversion rates by 20 and reducing latency by 30 through optimized API design and database queries \n",
      " \n",
      " Designed and implemented a microservices architecture using Go and Docker, resulting in improved scalability and maintainability for critical business services \n",
      " \n",
      " Mentored a team of 5 junior developers, conducting code reviews, providing technical guidance, and fostering a collaborative development environment \n",
      " \n",
      " Developed and maintained CI CD pipelines using Jenkins, automating deployment processes and reducing release cycles by 50 \n",
      " \n",
      " Collaborated with product managers and UX designers to translate business requirements into technical specifications and user centric features \n",
      " \n",
      " Software Engineer \n",
      " \n",
      " Global Tech Corp , San Jose, CA , August 2017 December 2019 \n",
      " \n",
      " Contributed to the development of a real time data analytics dashboard using React js and Node js, improving data visualization capabilities for enterprise clients \n",
      " \n",
      " Optimized existing database schemas and queries, leading to a 25 improvement in data retrieval efficiency \n",
      " \n",
      " Participated in agile ceremonies, contributing to sprint planning, daily stand ups, and retrospectives \n",
      " \n",
      " Key Projects \n",
      " \n",
      " Cloud Native Inventory Management System \n",
      " \n",
      " Technologies AWS Lambda, DynamoDB, API Gateway, React js, Serverless Framework \n",
      " \n",
      " Architected and developed a serverless inventory system for a logistics company, reducing infrastructure costs by 40 \n",
      " \n",
      " Implemented real time stock updates and automated alerts, improving inventory accuracy by 95 \n",
      " \n",
      " AI Powered Content Recommendation Engine \n",
      " \n",
      " Technologies Python, TensorFlow, Flask, PostgreSQL, Docker \n",
      " \n",
      " Developed a machine learning model to provide personalized content recommendations, increasing user engagement by 18 \n",
      " \n",
      " Built RESTful APIs to integrate the recommendation engine with existing web applications \n",
      " \n",
      " Education \n",
      " \n",
      " Master of Science in Computer Science \n",
      " \n",
      " University of California, Berkeley , Berkeley, CA , 2016 2017 \n",
      " \n",
      " Specialization in Distributed Systems and Machine Learning \n",
      " \n",
      " Bachelor of Engineering in Computer Engineering \n",
      " \n",
      " Georgia Institute of Technology , Atlanta, GA , 2012 2016 \n",
      " \n",
      " Graduated Summa Cum Laude \n",
      " \n",
      " Awarded Dean s List for 6 consecutive semesters \n",
      " \n",
      " Certifications Awards \n",
      " \n",
      " AWS Certified Solutions Architect Associate 2021 \n",
      " \n",
      " Google Cloud Professional Cloud Developer 2022 \n",
      " \n",
      " Innovator of the Year Award, Innovate Solutions Inc 2023 \n",
      " \n",
      " Top Performer in Advanced Algorithms Course, UC Berkeley 2017 \n",
      " \n",
      " Volunteer Experience \n",
      " \n",
      " Code Mentor \n",
      " \n",
      " Girls Who Code , Remote , September 2020 Present \n",
      " \n",
      " Mentored high school students in fundamental programming concepts and web development \n",
      " \n",
      " Assisted in developing curriculum and organizing coding workshops\n"
     ]
    }
   ],
   "source": [
    "o = deepcopy(output)\n",
    "new_line_char = \" mmmmmmm \" \n",
    "o = o.replace(\"\\n\", new_line_char) \n",
    "o = o.replace(\"|\", \",\") \n",
    "o = re.sub(r'–', '-', o) \n",
    "for i in punctuation.replace(\",\", \"\"): \n",
    "    o = o.replace(i, \" \") \n",
    "o = \" \".join(o.split())\n",
    "o = o.replace(new_line_char.strip(), \"\\n\") \n",
    "print(o)"
   ]
  },
  {
   "cell_type": "raw",
   "id": "1df45d0d",
   "metadata": {
    "vscode": {
     "languageId": "raw"
    }
   },
   "source": [
    "Alex Johnson \n",
    " \n",
    " Senior Software Engineer , Full Stack Development \n",
    " \n",
    " Email alex johnson example com \n",
    " \n",
    " Phone 555 123 4567 \n",
    " \n",
    " LinkedIn linkedin com in alexjohnson \n",
    " \n",
    " GitHub github com alexjohnsondev \n",
    " \n",
    " Portfolio alexjohnson dev \n",
    " \n",
    " Professional Summary \n",
    " \n",
    " Highly accomplished and results oriented Senior Software Engineer with 8 years of experience in designing, developing, and deploying scalable full stack applications Proven ability to lead cross functional teams, mentor junior developers, and deliver complex projects on time and within budget Expertise in cloud native architectures, microservices, and agile methodologies Passionate about leveraging cutting edge technologies to solve challenging business problems and drive innovation \n",
    " \n",
    " Technical Skills \n",
    " \n",
    " Programming Languages Python Expert , JavaScript Expert , TypeScript Advanced , Go Intermediate , Java Intermediate \n",
    " \n",
    " Front End React js, Next js, Vue js, Angular, HTML5, CSS3, Tailwind CSS, Bootstrap, Redux, Context API \n",
    " \n",
    " Back End Node js, Express js, Django, Flask, Spring Boot, RESTful APIs, GraphQL \n",
    " \n",
    " Databases PostgreSQL, MongoDB, MySQL, Redis, DynamoDB \n",
    " \n",
    " Cloud Platforms AWS EC2, S3, Lambda, RDS, SQS, SNS , Google Cloud Platform GCP , Azure \n",
    " \n",
    " Tools Methodologies Git, Docker, Kubernetes, Jenkins, CI CD, Agile Scrum Kanban , TDD, Microservices, Serverless \n",
    " \n",
    " Professional Experience \n",
    " \n",
    " Senior Software Engineer \n",
    " \n",
    " Innovate Solutions Inc , Seattle, WA , January 2020 Present \n",
    " \n",
    " Led the development of a high traffic e commerce platform, increasing conversion rates by 20 and reducing latency by 30 through optimized API design and database queries \n",
    " \n",
    " Designed and implemented a microservices architecture using Go and Docker, resulting in improved scalability and maintainability for critical business services \n",
    " \n",
    " Mentored a team of 5 junior developers, conducting code reviews, providing technical guidance, and fostering a collaborative development environment \n",
    " \n",
    " Developed and maintained CI CD pipelines using Jenkins, automating deployment processes and reducing release cycles by 50 \n",
    " \n",
    " Collaborated with product managers and UX designers to translate business requirements into technical specifications and user centric features \n",
    " \n",
    " Software Engineer \n",
    " \n",
    " Global Tech Corp , San Jose, CA , August 2017 December 2019 \n",
    " \n",
    " Contributed to the development of a real time data analytics dashboard using React js and Node js, improving data visualization capabilities for enterprise clients \n",
    " \n",
    " Optimized existing database schemas and queries, leading to a 25 improvement in data retrieval efficiency \n",
    " \n",
    " Participated in agile ceremonies, contributing to sprint planning, daily stand ups, and retrospectives \n",
    " \n",
    " Key Projects \n",
    " \n",
    " Cloud Native Inventory Management System \n",
    " \n",
    " Technologies AWS Lambda, DynamoDB, API Gateway, React js, Serverless Framework \n",
    " \n",
    " Architected and developed a serverless inventory system for a logistics company, reducing infrastructure costs by 40 \n",
    " \n",
    " Implemented real time stock updates and automated alerts, improving inventory accuracy by 95 \n",
    " \n",
    " AI Powered Content Recommendation Engine \n",
    " \n",
    " Technologies Python, TensorFlow, Flask, PostgreSQL, Docker \n",
    " \n",
    " Developed a machine learning model to provide personalized content recommendations, increasing user engagement by 18 \n",
    " \n",
    " Built RESTful APIs to integrate the recommendation engine with existing web applications \n",
    " \n",
    " Education \n",
    " \n",
    " Master of Science in Computer Science \n",
    " \n",
    " University of California, Berkeley , Berkeley, CA , 2016 2017 \n",
    " \n",
    " Specialization in Distributed Systems and Machine Learning \n",
    " \n",
    " Bachelor of Engineering in Computer Engineering \n",
    " \n",
    " Georgia Institute of Technology , Atlanta, GA , 2012 2016 \n",
    " \n",
    " Graduated Summa Cum Laude \n",
    " \n",
    " Awarded Dean s List for 6 consecutive semesters \n",
    " \n",
    " Certifications Awards \n",
    " \n",
    " AWS Certified Solutions Architect Associate 2021 \n",
    " \n",
    " Google Cloud Professional Cloud Developer 2022 \n",
    " \n",
    " Innovator of the Year Award, Innovate Solutions Inc 2023 \n",
    " \n",
    " Top Performer in Advanced Algorithms Course, UC Berkeley 2017 \n",
    " \n",
    " Volunteer Experience \n",
    " \n",
    " Code Mentor \n",
    " \n",
    " Girls Who Code , Remote , September 2020 Present \n",
    " \n",
    " Mentored high school students in fundamental programming concepts and web development \n",
    " \n",
    " Assisted in developing curriculum and organizing coding workshops"
   ]
  },
  {
   "cell_type": "code",
   "execution_count": 16,
   "id": "3cd1e47d",
   "metadata": {},
   "outputs": [
    {
     "name": "stdout",
     "output_type": "stream",
     "text": [
      "Alex Johnson \n",
      " \n",
      " Senior Software Engineer , Full Stack Development \n",
      " \n",
      " Email alex.johnson example.com \n",
      " \n",
      " Phone 555 123 4567 \n",
      " \n",
      " LinkedIn linkedin.com in alexjohnson \n",
      " \n",
      " GitHub github.com alexjohnsondev \n",
      " \n",
      " Portfolio alexjohnson.dev \n",
      " \n",
      " Professional Summary \n",
      " \n",
      " Highly accomplished and results oriented Senior Software Engineer with 8 years of experience in designing, developing, and deploying scalable full stack applications. Proven ability to lead cross functional teams, mentor junior developers, and deliver complex projects on time and within budget. Expertise in cloud native architectures, microservices, and agile methodologies. Passionate about leveraging cutting edge technologies to solve challenging business problems and drive innovation. \n",
      " \n",
      " Technical Skills \n",
      " \n",
      " Programming Languages Python Expert , JavaScript Expert , TypeScript Advanced , Go Intermediate , Java Intermediate \n",
      " \n",
      " Front End React.js, Next.js, Vue.js, Angular, HTML5, CSS3, Tailwind CSS, Bootstrap, Redux, Context API \n",
      " \n",
      " Back End Node.js, Express.js, Django, Flask, Spring Boot, RESTful APIs, GraphQL \n",
      " \n",
      " Databases PostgreSQL, MongoDB, MySQL, Redis, DynamoDB \n",
      " \n",
      " Cloud Platforms AWS EC2, S3, Lambda, RDS, SQS, SNS , Google Cloud Platform GCP , Azure \n",
      " \n",
      " Tools Methodologies Git, Docker, Kubernetes, Jenkins, CI CD, Agile Scrum Kanban , TDD, Microservices, Serverless \n",
      " \n",
      " Professional Experience \n",
      " \n",
      " Senior Software Engineer \n",
      " \n",
      " Innovate Solutions Inc. , Seattle, WA , January 2020 Present \n",
      " \n",
      " Led the development of a high traffic e commerce platform, increasing conversion rates by 20 and reducing latency by 30 through optimized API design and database queries. \n",
      " \n",
      " Designed and implemented a microservices architecture using Go and Docker, resulting in improved scalability and maintainability for critical business services. \n",
      " \n",
      " Mentored a team of 5 junior developers, conducting code reviews, providing technical guidance, and fostering a collaborative development environment. \n",
      " \n",
      " Developed and maintained CI CD pipelines using Jenkins, automating deployment processes and reducing release cycles by 50 . \n",
      " \n",
      " Collaborated with product managers and UX designers to translate business requirements into technical specifications and user centric features. \n",
      " \n",
      " Software Engineer \n",
      " \n",
      " Global Tech Corp , San Jose, CA , August 2017 December 2019 \n",
      " \n",
      " Contributed to the development of a real time data analytics dashboard using React.js and Node.js, improving data visualization capabilities for enterprise clients. \n",
      " \n",
      " Optimized existing database schemas and queries, leading to a 25 improvement in data retrieval efficiency. \n",
      " \n",
      " Participated in agile ceremonies, contributing to sprint planning, daily stand ups, and retrospectives. \n",
      " \n",
      " Key Projects \n",
      " \n",
      " Cloud Native Inventory Management System \n",
      " \n",
      " Technologies AWS Lambda, DynamoDB, API Gateway, React.js, Serverless Framework \n",
      " \n",
      " Architected and developed a serverless inventory system for a logistics company, reducing infrastructure costs by 40 . \n",
      " \n",
      " Implemented real time stock updates and automated alerts, improving inventory accuracy by 95 . \n",
      " \n",
      " AI Powered Content Recommendation Engine \n",
      " \n",
      " Technologies Python, TensorFlow, Flask, PostgreSQL, Docker \n",
      " \n",
      " Developed a machine learning model to provide personalized content recommendations, increasing user engagement by 18 . \n",
      " \n",
      " Built RESTful APIs to integrate the recommendation engine with existing web applications. \n",
      " \n",
      " Education \n",
      " \n",
      " Master of Science in Computer Science \n",
      " \n",
      " University of California, Berkeley , Berkeley, CA , 2016 2017 \n",
      " \n",
      " Specialization in Distributed Systems and Machine Learning. \n",
      " \n",
      " Bachelor of Engineering in Computer Engineering \n",
      " \n",
      " Georgia Institute of Technology , Atlanta, GA , 2012 2016 \n",
      " \n",
      " Graduated Summa Cum Laude. \n",
      " \n",
      " Awarded Dean s List for 6 consecutive semesters. \n",
      " \n",
      " Certifications Awards \n",
      " \n",
      " AWS Certified Solutions Architect Associate 2021 \n",
      " \n",
      " Google Cloud Professional Cloud Developer 2022 \n",
      " \n",
      " Innovator of the Year Award, Innovate Solutions Inc. 2023 \n",
      " \n",
      " Top Performer in Advanced Algorithms Course, UC Berkeley 2017 \n",
      " \n",
      " Volunteer Experience \n",
      " \n",
      " Code Mentor \n",
      " \n",
      " Girls Who Code , Remote , September 2020 Present \n",
      " \n",
      " Mentored high school students in fundamental programming concepts and web development. \n",
      " \n",
      " Assisted in developing curriculum and organizing coding workshops.\n"
     ]
    }
   ],
   "source": [
    "path = \"C:\\\\Users\\\\hasan\\\\Artificial-Intelligence\\\\projects\\\\Resume ATS Score Checker\\\\resumes\\\\3.html\"\n",
    "partition = partition_html\n",
    "elements = partition(path)\n",
    "del partition \n",
    "elements_string = \"\\n\\n\".join([str(el) for el in elements]) \n",
    "del elements \n",
    "new_line_char = \" mmmmmmm \" \n",
    "elements_string = elements_string.replace(\"\\n\", new_line_char).replace(\"|\", \",\") \n",
    "elements_string = re.sub(r'–', '-', elements_string) \n",
    "for i in punctuation.replace(\",\", \"\").replace(\".\", \"\"): \n",
    "    elements_string = elements_string.replace(i, \" \") \n",
    "elements_string = \" \".join(elements_string.split())\n",
    "elements_string = elements_string.replace(new_line_char.strip(), \"\\n\") \n",
    "del new_line_char\n",
    "print(elements_string)\n",
    "del elements_string"
   ]
  },
  {
   "cell_type": "code",
   "execution_count": 17,
   "id": "6ccb2371",
   "metadata": {},
   "outputs": [],
   "source": [
    "import os "
   ]
  },
  {
   "cell_type": "code",
   "execution_count": 18,
   "id": "7d76f484",
   "metadata": {},
   "outputs": [
    {
     "data": {
      "text/plain": [
       "('c://user/hasan', 'new_document.txt')"
      ]
     },
     "execution_count": 18,
     "metadata": {},
     "output_type": "execute_result"
    }
   ],
   "source": [
    "os.path.split(\"c://user/hasan/new_document.txt\")"
   ]
  },
  {
   "cell_type": "code",
   "execution_count": 19,
   "id": "244fdf51",
   "metadata": {},
   "outputs": [
    {
     "data": {
      "text/plain": [
       "('', 'new_document.txt')"
      ]
     },
     "execution_count": 19,
     "metadata": {},
     "output_type": "execute_result"
    }
   ],
   "source": [
    "os.path.split(\"new_document.txt\")"
   ]
  },
  {
   "cell_type": "code",
   "execution_count": 1,
   "id": "d7ba22f7",
   "metadata": {},
   "outputs": [],
   "source": [
    "from src.ats.utils import save_file"
   ]
  },
  {
   "cell_type": "code",
   "execution_count": 12,
   "id": "7da781fd",
   "metadata": {},
   "outputs": [],
   "source": [
    "save_file(\"lskdjfldsjflk\", \"test/new.txt\")"
   ]
  },
  {
   "cell_type": "code",
   "execution_count": 3,
   "id": "69bdb23f",
   "metadata": {},
   "outputs": [
    {
     "name": "stdout",
     "output_type": "stream",
     "text": [
      "a: hasan\n",
      "encoded: b'hasan'\n",
      "decoded: hasan\n",
      "type(a): <class 'str'>\n",
      "type(encoded): <class 'bytes'>\n",
      "type(decoded): <class 'str'>\n"
     ]
    }
   ],
   "source": [
    "a= \"hasan\" \n",
    "bytes_a = a.encode()\n",
    "print(\"a:\",a)\n",
    "print(\"encoded:\",a.encode())\n",
    "print(\"decoded:\",a.encode().decode())\n",
    "print(\"type(a):\",type(a))\n",
    "print(\"type(encoded):\",type(a.encode()))\n",
    "print(\"type(decoded):\",type(a.encode().decode()))"
   ]
  },
  {
   "cell_type": "code",
   "execution_count": 4,
   "id": "b1503951",
   "metadata": {},
   "outputs": [
    {
     "data": {
      "text/plain": [
       "True"
      ]
     },
     "execution_count": 4,
     "metadata": {},
     "output_type": "execute_result"
    }
   ],
   "source": [
    "isinstance(\"asdlfkj\", str)"
   ]
  },
  {
   "cell_type": "code",
   "execution_count": 63,
   "id": "fc2e84fb",
   "metadata": {},
   "outputs": [],
   "source": [
    "import re, os\n",
    "exp = r'\\(([1-9]\\d*)\\)'\n",
    "file_name = \"1(1).docx\""
   ]
  },
  {
   "cell_type": "code",
   "execution_count": 52,
   "id": "0a86a670",
   "metadata": {},
   "outputs": [
    {
     "data": {
      "text/plain": [
       "<re.Match object; span=(1, 4), match='(1)'>"
      ]
     },
     "execution_count": 52,
     "metadata": {},
     "output_type": "execute_result"
    }
   ],
   "source": [
    "output = re.search(exp, file_name) \n",
    "output"
   ]
  },
  {
   "cell_type": "code",
   "execution_count": 60,
   "id": "5699f0c9",
   "metadata": {},
   "outputs": [
    {
     "data": {
      "text/plain": [
       "'1'"
      ]
     },
     "execution_count": 60,
     "metadata": {},
     "output_type": "execute_result"
    }
   ],
   "source": [
    "output.group(1)"
   ]
  },
  {
   "cell_type": "code",
   "execution_count": 65,
   "id": "4d7c693f",
   "metadata": {},
   "outputs": [
    {
     "data": {
      "text/plain": [
       "('1(1)', '.docx')"
      ]
     },
     "execution_count": 65,
     "metadata": {},
     "output_type": "execute_result"
    }
   ],
   "source": [
    "file_name_without_ext, ext = os.path.splitext(file_name)\n",
    "file_name_without_ext, ext"
   ]
  },
  {
   "cell_type": "code",
   "execution_count": 67,
   "id": "de89e87c",
   "metadata": {},
   "outputs": [
    {
     "data": {
      "text/plain": [
       "2"
      ]
     },
     "execution_count": 67,
     "metadata": {},
     "output_type": "execute_result"
    }
   ],
   "source": [
    "index = file_name.index(output.group(1), len(file_name_without_ext)-3, len(file_name_without_ext))\n",
    "index"
   ]
  },
  {
   "cell_type": "code",
   "execution_count": 68,
   "id": "1dccb051",
   "metadata": {},
   "outputs": [
    {
     "data": {
      "text/plain": [
       "'1('"
      ]
     },
     "execution_count": 68,
     "metadata": {},
     "output_type": "execute_result"
    }
   ],
   "source": [
    "file_name[:index]"
   ]
  },
  {
   "cell_type": "code",
   "execution_count": 69,
   "id": "090b51c7",
   "metadata": {},
   "outputs": [],
   "source": [
    "index-=1"
   ]
  },
  {
   "cell_type": "code",
   "execution_count": 70,
   "id": "66cebd0b",
   "metadata": {},
   "outputs": [
    {
     "data": {
      "text/plain": [
       "'1'"
      ]
     },
     "execution_count": 70,
     "metadata": {},
     "output_type": "execute_result"
    }
   ],
   "source": [
    "file_name[:index]"
   ]
  },
  {
   "cell_type": "code",
   "execution_count": 71,
   "id": "a6104a05",
   "metadata": {},
   "outputs": [],
   "source": [
    "path = \"artifacts/data/ingestion/raw\""
   ]
  },
  {
   "cell_type": "code",
   "execution_count": 72,
   "id": "3f2e51d8",
   "metadata": {},
   "outputs": [
    {
     "name": "stdout",
     "output_type": "stream",
     "text": [
      "True\n"
     ]
    }
   ],
   "source": [
    "if \"raw\" in path:\n",
    "    print(True)\n",
    "else: \n",
    "    print(False)"
   ]
  },
  {
   "cell_type": "code",
   "execution_count": 4,
   "id": "b4ba66ab",
   "metadata": {},
   "outputs": [
    {
     "name": "stdout",
     "output_type": "stream",
     "text": [
      "<!DOCTYPE html>\n",
      "<html lang=\"en\">\n",
      "<head>\n",
      "    <meta charset=\"UTF-8\">\n",
      "    <meta name=\"viewport\" content=\"width=device-width, initial-scale=1.0\">\n",
      "    <title>Simple Resume - John Doe</title>\n",
      "    <!-- Tailwind CSS CDN -->\n",
      "    <script src=\"https://cdn.tailwindcss.com\"></script>\n",
      "    <style>\n",
      "        body {\n",
      "            font-family: \"Inter\", sans-serif;\n",
      "            background-color: #f8f8f8;\n",
      "            color: #333;\n",
      "        }\n",
      "    </style>\n",
      "</head>\n",
      "<body class=\"p-4 sm:p-6 md:p-8 lg:p-10 max-w-4xl mx-auto bg-white shadow-lg rounded-lg my-8\">\n",
      "    <!-- Header Section -->\n",
      "    <header class=\"text-center mb-6\">\n",
      "        <h1 class=\"text-3xl sm:text-4xl font-bold text-gray-800 mb-2\">John Doe</h1>\n",
      "        <p class=\"text-md sm:text-lg text-gray-600\">Web Developer</p>\n",
      "        <div class=\"text-sm sm:text-base text-gray-500 mt-2\">\n",
      "            <p>Email: john.doe@example.com | Phone: (123) 456-7890 | LinkedIn: linkedin.com/in/johndoe</p>\n",
      "        </div>\n",
      "    </header>\n",
      "\n",
      "    <!-- Horizontal Rule -->\n",
      "    <hr class=\"border-t-2 border-gray-200 mb-6\">\n",
      "\n",
      "    <!-- Summary Section -->\n",
      "    <section class=\"mb-6\">\n",
      "        <h2 class=\"text-xl sm:text-2xl font-semibold text-gray-700 mb-3 pb-1 border-b border-gray-300\">Summary</h2>\n",
      "        <p class=\"text-sm sm:text-base text-gray-700 leading-relaxed\">\n",
      "            Highly motivated and detail-oriented web developer with a passion for creating responsive and user-friendly websites. Eager to apply strong foundational knowledge in front-end technologies to contribute to innovative projects.\n",
      "        </p>\n",
      "    </section>\n",
      "\n",
      "    <!-- Experience Section -->\n",
      "    <section class=\"mb-6\">\n",
      "        <h2 class=\"text-xl sm:text-2xl font-semibold text-gray-700 mb-3 pb-1 border-b border-gray-300\">Experience</h2>\n",
      "        <div class=\"mb-4\">\n",
      "            <h3 class=\"text-lg sm:text-xl font-semibold text-gray-800\">Junior Web Developer</h3>\n",
      "            <p class=\"text-md text-gray-600\">Tech Solutions Inc. | New York, NY | June 2023 â€“ Present</p>\n",
      "            <ul class=\"list-disc list-inside text-sm sm:text-base text-gray-700 mt-2 space-y-1\">\n",
      "                <li>Assisted in the development and maintenance of client websites using HTML, CSS, and JavaScript.</li>\n",
      "                <li>Collaborated with senior developers to implement new features and resolve bugs.</li>\n",
      "                <li>Participated in daily stand-up meetings and project planning sessions.</li>\n",
      "            </ul>\n",
      "        </div>\n",
      "    </section>\n",
      "\n",
      "    <!-- Education Section -->\n",
      "    <section>\n",
      "        <h2 class=\"text-xl sm:text-2xl font-semibold text-gray-700 mb-3 pb-1 border-b border-gray-300\">Education</h2>\n",
      "        <div class=\"mb-4\">\n",
      "            <h3 class=\"text-lg sm:text-xl font-semibold text-gray-800\">Bachelor of Science in Computer Science</h3>\n",
      "            <p class=\"text-md text-gray-600\">University of Technology | City, State | 2019 â€“ 2023</p>\n",
      "            <ul class=\"list-disc list-inside text-sm sm:text-base text-gray-700 mt-2 space-y-1\">\n",
      "                <li>Relevant coursework: Data Structures, Algorithms, Web Development, Database Management.</li>\n",
      "                <li>GPA: 3.8/4.0</li>\n",
      "            </ul>\n",
      "        </div>\n",
      "    </section>\n",
      "</body>\n",
      "</html>\n",
      "\n"
     ]
    }
   ],
   "source": [
    "with open(\"C:\\\\Users\\\\hasan\\\\Artificial-Intelligence\\\\projects\\\\Resume ATS Score Checker\\\\resumes\\\\1.html\", \"r\") as file:\n",
    "    content = file.read()\n",
    "print(content)"
   ]
  },
  {
   "cell_type": "code",
   "execution_count": 5,
   "id": "2fd8eae0",
   "metadata": {},
   "outputs": [
    {
     "data": {
      "text/plain": [
       "str"
      ]
     },
     "execution_count": 5,
     "metadata": {},
     "output_type": "execute_result"
    }
   ],
   "source": [
    "type(content)"
   ]
  },
  {
   "cell_type": "code",
   "execution_count": 1,
   "id": "67795d4b",
   "metadata": {},
   "outputs": [],
   "source": [
    "from string import punctuation "
   ]
  },
  {
   "cell_type": "code",
   "execution_count": 2,
   "id": "0b013ebc",
   "metadata": {},
   "outputs": [
    {
     "data": {
      "text/plain": [
       "'!\"#$%&\\'()*+,-./:;<=>?@[\\\\]^_`{|}~–'"
      ]
     },
     "execution_count": 2,
     "metadata": {},
     "output_type": "execute_result"
    }
   ],
   "source": [
    "punctuation+'–'"
   ]
  },
  {
   "cell_type": "code",
   "execution_count": 9,
   "id": "56d3b73e",
   "metadata": {},
   "outputs": [
    {
     "name": "stdout",
     "output_type": "stream",
     "text": [
      "True: –, type: <class 'str'>\n",
      "True: -, type: <class 'str'>\n",
      "False: '–' == '-'\n"
     ]
    }
   ],
   "source": [
    "if '–' in punctuation+'–':\n",
    "    print(f\"True: –, type: {type('–')}\")\n",
    "if '-' in punctuation+'-':\n",
    "    print(f\"True: -, type: {type('-')}\") \n",
    "print(f\"{'–' == '-'}: \\'–\\' == \\'-\\'\")"
   ]
  },
  {
   "cell_type": "code",
   "execution_count": null,
   "id": "05649323",
   "metadata": {},
   "outputs": [],
   "source": [
    "from dataclasses import field\n",
    "\n",
    "field()"
   ]
  },
  {
   "cell_type": "code",
   "execution_count": 1,
   "id": "87658609",
   "metadata": {},
   "outputs": [],
   "source": [
    "from pathlib import Path \n",
    "import os "
   ]
  },
  {
   "cell_type": "code",
   "execution_count": 2,
   "id": "61d46497",
   "metadata": {},
   "outputs": [],
   "source": [
    "head, tail = os.path.split(\"test_II/part_I/test.json\")"
   ]
  },
  {
   "cell_type": "code",
   "execution_count": 3,
   "id": "e11a5513",
   "metadata": {},
   "outputs": [
    {
     "name": "stdout",
     "output_type": "stream",
     "text": [
      "head: test_II/part_I\n",
      "tail: test.json\n"
     ]
    }
   ],
   "source": [
    "print(f\"head: {head}\")\n",
    "print(f\"tail: {tail}\")"
   ]
  },
  {
   "cell_type": "code",
   "execution_count": 5,
   "id": "5e979bb3",
   "metadata": {},
   "outputs": [],
   "source": [
    "Path(head).mkdir(parents=True, exist_ok=True)"
   ]
  },
  {
   "cell_type": "code",
   "execution_count": 2,
   "id": "9816cf7d",
   "metadata": {},
   "outputs": [
    {
     "name": "stdout",
     "output_type": "stream",
     "text": [
      "/media/hasan/New Volume/Artificial-Intelligence/projects/Resume ATS Score Checker/notebook\n",
      "/media/hasan/New Volume/Artificial-Intelligence/projects/Resume ATS Score Checker\n"
     ]
    }
   ],
   "source": [
    "import os \n",
    "print(os.getcwd())\n",
    "os.chdir(\"..\")\n",
    "print(os.getcwd())"
   ]
  },
  {
   "cell_type": "code",
   "execution_count": 3,
   "id": "b49de6de",
   "metadata": {},
   "outputs": [
    {
     "data": {
      "text/plain": [
       "<_io.BufferedReader name='resumes/1.docx'>"
      ]
     },
     "execution_count": 3,
     "metadata": {},
     "output_type": "execute_result"
    }
   ],
   "source": [
    "file = open(\"resumes/1.docx\", \"rb\") \n",
    "file"
   ]
  },
  {
   "cell_type": "code",
   "execution_count": 4,
   "id": "8e7c63d7",
   "metadata": {},
   "outputs": [
    {
     "data": {
      "text/plain": [
       "b'PK\\x03\\x04\\x14\\x00\\x06\\x00\\x08\\x00'"
      ]
     },
     "execution_count": 4,
     "metadata": {},
     "output_type": "execute_result"
    }
   ],
   "source": [
    "file.read(10)"
   ]
  },
  {
   "cell_type": "code",
   "execution_count": 5,
   "id": "207cf6f1",
   "metadata": {},
   "outputs": [
    {
     "data": {
      "text/plain": [
       "b'\\x00\\x00!\\x002\\x91oWf\\x01'"
      ]
     },
     "execution_count": 5,
     "metadata": {},
     "output_type": "execute_result"
    }
   ],
   "source": [
    "file.read(10)"
   ]
  },
  {
   "cell_type": "code",
   "execution_count": 6,
   "id": "868ab102",
   "metadata": {},
   "outputs": [
    {
     "data": {
      "text/plain": [
       "b'\\x00\\x00\\xa5\\x05\\x00\\x00\\x13\\x00\\x08\\x02'"
      ]
     },
     "execution_count": 6,
     "metadata": {},
     "output_type": "execute_result"
    }
   ],
   "source": [
    "file.read(10)"
   ]
  },
  {
   "cell_type": "code",
   "execution_count": 7,
   "id": "44b6d5b5",
   "metadata": {},
   "outputs": [
    {
     "data": {
      "text/plain": [
       "30"
      ]
     },
     "execution_count": 7,
     "metadata": {},
     "output_type": "execute_result"
    }
   ],
   "source": [
    "file.tell()"
   ]
  },
  {
   "cell_type": "code",
   "execution_count": 8,
   "id": "3dba17dc",
   "metadata": {},
   "outputs": [
    {
     "data": {
      "text/plain": [
       "10"
      ]
     },
     "execution_count": 8,
     "metadata": {},
     "output_type": "execute_result"
    }
   ],
   "source": [
    "file.seek(10)"
   ]
  },
  {
   "cell_type": "code",
   "execution_count": 9,
   "id": "1f7e4481",
   "metadata": {},
   "outputs": [
    {
     "data": {
      "text/plain": [
       "10"
      ]
     },
     "execution_count": 9,
     "metadata": {},
     "output_type": "execute_result"
    }
   ],
   "source": [
    "file.tell()"
   ]
  },
  {
   "cell_type": "code",
   "execution_count": 10,
   "id": "00733507",
   "metadata": {},
   "outputs": [
    {
     "data": {
      "text/plain": [
       "b'\\x00\\x00!\\x002\\x91oWf\\x01'"
      ]
     },
     "execution_count": 10,
     "metadata": {},
     "output_type": "execute_result"
    }
   ],
   "source": [
    "file.read(10)"
   ]
  },
  {
   "cell_type": "code",
   "execution_count": null,
   "id": "16d4760b",
   "metadata": {},
   "outputs": [],
   "source": []
  }
 ],
 "metadata": {
  "kernelspec": {
   "display_name": "resume-ats-score-checker",
   "language": "python",
   "name": "python3"
  },
  "language_info": {
   "codemirror_mode": {
    "name": "ipython",
    "version": 3
   },
   "file_extension": ".py",
   "mimetype": "text/x-python",
   "name": "python",
   "nbconvert_exporter": "python",
   "pygments_lexer": "ipython3",
   "version": "3.13.7"
  }
 },
 "nbformat": 4,
 "nbformat_minor": 5
}
