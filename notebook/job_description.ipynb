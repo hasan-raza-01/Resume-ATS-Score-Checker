{
 "cells": [
  {
   "cell_type": "code",
   "execution_count": 1,
   "id": "fca69aea",
   "metadata": {},
   "outputs": [],
   "source": [
    "import os "
   ]
  },
  {
   "cell_type": "code",
   "execution_count": 2,
   "id": "c8901ff5",
   "metadata": {},
   "outputs": [
    {
     "data": {
      "text/plain": [
       "'/home/hasan/Artificial-Intelligence/projects/Resume-ATS-Score-Checker/notebook'"
      ]
     },
     "execution_count": 2,
     "metadata": {},
     "output_type": "execute_result"
    }
   ],
   "source": [
    "os.getcwd()"
   ]
  },
  {
   "cell_type": "code",
   "execution_count": 3,
   "id": "c47d951d",
   "metadata": {},
   "outputs": [],
   "source": [
    "os.chdir(\"..\")"
   ]
  },
  {
   "cell_type": "code",
   "execution_count": 4,
   "id": "d06f0943",
   "metadata": {},
   "outputs": [
    {
     "data": {
      "text/plain": [
       "'/home/hasan/Artificial-Intelligence/projects/Resume-ATS-Score-Checker'"
      ]
     },
     "execution_count": 4,
     "metadata": {},
     "output_type": "execute_result"
    }
   ],
   "source": [
    "os.getcwd()"
   ]
  },
  {
   "cell_type": "code",
   "execution_count": 5,
   "id": "72d486f7",
   "metadata": {},
   "outputs": [],
   "source": [
    "from dotenv import load_dotenv\n",
    "load_dotenv()\n",
    "\n",
    "from src.ats.components.schema import JobDescription\n",
    "from src.ats import logging\n",
    "from firecrawl import Firecrawl\n",
    "import os\n",
    "import asyncio"
   ]
  },
  {
   "cell_type": "code",
   "execution_count": 22,
   "id": "9f4d7719",
   "metadata": {},
   "outputs": [],
   "source": [
    "class JobDescriptionParser:\n",
    "    \n",
    "    def __init__(self, firecrawl_api_key: str = None) -> None:\n",
    "        if not firecrawl_api_key:\n",
    "            firecrawl_api_key = os.getenv(\"FIRECRAWL_API_KEY\")\n",
    "        \n",
    "        if not firecrawl_api_key:\n",
    "            raise ValueError(f\"argument and environment variable 'firecrawl_api_key' is having value '{firecrawl_api_key}'\")\n",
    "        \n",
    "        self.firecrawl = Firecrawl(api_key=firecrawl_api_key)\n",
    "    \n",
    "    async def extract_job_description(self, url: str):\n",
    "        \"\"\"Extract job description using Firecrawl's AI-powered extraction\"\"\"\n",
    "        loop = asyncio.get_running_loop()\n",
    "        \n",
    "        def _scrape():\n",
    "            try:\n",
    "                result = self.firecrawl.scrape(\n",
    "                    url,\n",
    "                    formats=[{\n",
    "                        \"type\": \"json\",\n",
    "                        \"schema\": JobDescription\n",
    "                    }],\n",
    "                    only_main_content=False,\n",
    "                    timeout=120000\n",
    "                )\n",
    "                \n",
    "                if result.metadata.status_code == 200:\n",
    "                    return result.json\n",
    "                else:\n",
    "                    print(f\"Firecrawl extraction failed: {result}\")\n",
    "                    return None\n",
    "                    \n",
    "            except Exception as e:\n",
    "                print(f\"Error with Firecrawl: {str(e)}\")\n",
    "                return None\n",
    "        \n",
    "        return await loop.run_in_executor(None, _scrape)\n",
    "    \n",
    "    async def extract_job_description_with_prompt(self, url: str):\n",
    "        \"\"\"Alternative method using natural language prompt\"\"\"\n",
    "        loop = asyncio.get_running_loop()\n",
    "        \n",
    "        def _scrape_with_prompt():\n",
    "            try:\n",
    "                result = self.firecrawl.scrape(\n",
    "                    url,\n",
    "                    formats=[{\n",
    "                        \"type\": \"json\",\n",
    "                        \"prompt\": \"\"\"Extract the following information from this job posting:\n",
    "                        - Job title\n",
    "                        - Company name\n",
    "                        - Location\n",
    "                        - Job type (full-time, part-time, etc.)\n",
    "                        - Experience level required\n",
    "                        - Complete job description\n",
    "                        - Requirements and qualifications\n",
    "                        - Key responsibilities\n",
    "                        - Salary range (if mentioned)\n",
    "                        - Posted date (if available)\n",
    "\n",
    "                        Return as structured JSON.\"\"\"\n",
    "                    }],\n",
    "                    only_main_content=False\n",
    "                )\n",
    "                \n",
    "                if result.metadata.status_code == 200:\n",
    "                    return result.json\n",
    "                else:\n",
    "                    return None\n",
    "                    \n",
    "            except Exception as e:\n",
    "                print(f\"Error: {str(e)}\")\n",
    "                return None\n",
    "        \n",
    "        return await loop.run_in_executor(None, _scrape_with_prompt)\n",
    "    \n",
    "    async def parse(self, url: str) -> JobDescription | None:\n",
    "        logging.info(\"In JobDescriptionParser\")\n",
    "        method = \"extract_job_description\"\n",
    "        job_data = await self.extract_job_description(url)\n",
    "        \n",
    "        if not job_data:\n",
    "            job_data = await self.extract_job_description_with_prompt(url)\n",
    "            method = \"extract_job_description_with_prompt\"\n",
    "        logging.info(f\"used method \\'{method}\\' to parse job description\")\n",
    "        logging.info(\"Out JobDescriptionParser\")\n",
    "        return job_data\n"
   ]
  },
  {
   "cell_type": "code",
   "execution_count": 23,
   "id": "447833de",
   "metadata": {},
   "outputs": [],
   "source": [
    "parser = JobDescriptionParser()"
   ]
  },
  {
   "cell_type": "code",
   "execution_count": 24,
   "id": "8bd71e52",
   "metadata": {},
   "outputs": [
    {
     "data": {
      "text/plain": [
       "'https://www.naukri.com/job-listings-data-scientist-capgemini-technology-services-india-limited-bengaluru-4-to-7-years-230925920333?src=seo_srp&sid=17590531409038462&xp=1&px=1'"
      ]
     },
     "execution_count": 24,
     "metadata": {},
     "output_type": "execute_result"
    }
   ],
   "source": [
    "os.getenv(\"JD_URL\")"
   ]
  },
  {
   "cell_type": "code",
   "execution_count": 25,
   "id": "c5b620b4",
   "metadata": {},
   "outputs": [],
   "source": [
    "result = await parser.parse(os.getenv(\"JD_URL\"))"
   ]
  },
  {
   "cell_type": "code",
   "execution_count": 27,
   "id": "464438d8",
   "metadata": {},
   "outputs": [
    {
     "data": {
      "text/plain": [
       "{'job_type': 'Full Time, Permanent',\n",
       " 'location': 'Bengaluru',\n",
       " 'job_title': 'Data Scientist',\n",
       " 'posted_date': '4 days ago',\n",
       " 'company_name': 'Capgemini',\n",
       " 'requirements': 'UG: Any Graduate, PG: Any Postgraduate. Key Skills: python, natural language processing, machine learning, iot, deep learning, c++, project management, software testing, plc, microsoft azure, artificial intelligence, sql, java, data science, predictive modeling, embedded systems, linux, embedded c, agile, aws.',\n",
       " 'salary_range': 'Not Disclosed',\n",
       " 'job_description': 'This role involves the development and application of engineering practice and knowledge in the following technologies: Standards and protocols, application software and embedded software for wireless and satellite networks, fixed networks and enterprise networks; connected devices (IOT and device engineering), connected applications (5G/ edge, B2X apps); and Telco Cloud, Automation and Edge Compute platforms. This role also involves the integration of network systems and their operations, related to the above technologies. Focus on Connectivity and Network Engineering. Develops competency in own area of expertise. Shares expertise and provides guidance and support to others. Interprets clients needs. Completes own role independently or with minimum supervision. Identifies problems and relevant issues in straight forward situations and generates solutions. Contributes in teamwork and interacts with customers.',\n",
       " 'experience_level': '4 - 7 years',\n",
       " 'responsibilities': 'Develops competency in own area of expertise. Shares expertise and provides guidance and support to others. Interprets clients needs. Completes own role independently or with minimum supervision. Identifies problems and relevant issues in straight forward situations and generates solutions. Contributes in teamwork and interacts with customers.'}"
      ]
     },
     "execution_count": 27,
     "metadata": {},
     "output_type": "execute_result"
    }
   ],
   "source": [
    "result"
   ]
  },
  {
   "cell_type": "code",
   "execution_count": null,
   "id": "a3ad31a3",
   "metadata": {},
   "outputs": [],
   "source": []
  }
 ],
 "metadata": {
  "kernelspec": {
   "display_name": "resume-ats-score-checker",
   "language": "python",
   "name": "python3"
  },
  "language_info": {
   "codemirror_mode": {
    "name": "ipython",
    "version": 3
   },
   "file_extension": ".py",
   "mimetype": "text/x-python",
   "name": "python",
   "nbconvert_exporter": "python",
   "pygments_lexer": "ipython3",
   "version": "3.13.7"
  }
 },
 "nbformat": 4,
 "nbformat_minor": 5
}
